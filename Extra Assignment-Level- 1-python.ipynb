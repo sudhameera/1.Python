{
 "cells": [
  {
   "cell_type": "code",
   "execution_count": 1,
   "id": "4030766f",
   "metadata": {},
   "outputs": [
    {
     "name": "stdout",
     "output_type": "stream",
     "text": [
      "HOPE AI\n"
     ]
    }
   ],
   "source": [
    "print(\"HOPE AI\")"
   ]
  },
  {
   "cell_type": "code",
   "execution_count": 7,
   "id": "3c74e23a",
   "metadata": {},
   "outputs": [
    {
     "name": "stdout",
     "output_type": "stream",
     "text": [
      "Enter your institute name: HOPE AI\n",
      "HOPE AI\n"
     ]
    }
   ],
   "source": [
    "Name=input(\"Enter your institute name: \")\n",
    "print(Name)"
   ]
  },
  {
   "cell_type": "code",
   "execution_count": 6,
   "id": "402f51c6",
   "metadata": {},
   "outputs": [
    {
     "name": "stdout",
     "output_type": "stream",
     "text": [
      "Enter your Name: Raj\n",
      "ENter your age: 15\n",
      "Enter your school name: Guru School\n",
      "Enter your Degree: B.E CSE\n",
      "Raj 15 Guru School B.E CSE\n"
     ]
    }
   ],
   "source": [
    "Name=input(\"Enter your Name: \")\n",
    "age=input(\"ENter your age: \")\n",
    "school=input(\"Enter your school name: \")\n",
    "degree=input(\"Enter your Degree: \")\n",
    "print(Name,age,school,degree)"
   ]
  },
  {
   "cell_type": "code",
   "execution_count": 8,
   "id": "64a865ee",
   "metadata": {},
   "outputs": [
    {
     "name": "stdout",
     "output_type": "stream",
     "text": [
      " a= 43\n",
      " b= 34\n",
      "add= 77\n"
     ]
    }
   ],
   "source": [
    "a=int(input(\" a= \"))\n",
    "b=int(input(\" b= \"))\n",
    "add=a+b\n",
    "print(\"add=\",add)\n"
   ]
  },
  {
   "cell_type": "code",
   "execution_count": 10,
   "id": "f57e02a3",
   "metadata": {},
   "outputs": [
    {
     "name": "stdout",
     "output_type": "stream",
     "text": [
      " a= 43\n",
      " b= 34\n",
      "Sub= 9\n"
     ]
    }
   ],
   "source": [
    "a=int(input(\" a= \"))\n",
    "b=int(input(\" b= \"))\n",
    "sub=a-b\n",
    "print(\"Sub=\",sub)"
   ]
  },
  {
   "cell_type": "code",
   "execution_count": 11,
   "id": "1da57bd2",
   "metadata": {},
   "outputs": [
    {
     "name": "stdout",
     "output_type": "stream",
     "text": [
      " a= 63\n",
      " b= 97\n",
      "Mul= 6111\n"
     ]
    }
   ],
   "source": [
    "a=int(input(\" a= \"))\n",
    "b=int(input(\" b= \"))\n",
    "mul=a*b\n",
    "print(\"Mul=\",mul)"
   ]
  },
  {
   "cell_type": "code",
   "execution_count": 13,
   "id": "d37175db",
   "metadata": {},
   "outputs": [
    {
     "name": "stdout",
     "output_type": "stream",
     "text": [
      " a= 76\n",
      " b= 31\n",
      "Float Div= 2.4516129032258065\n"
     ]
    }
   ],
   "source": [
    "a=int(input(\" a= \"))\n",
    "b=int(input(\" b= \"))\n",
    "div=a/b\n",
    "print(\"Float Div=\",div)"
   ]
  },
  {
   "cell_type": "code",
   "execution_count": 14,
   "id": "8e81123b",
   "metadata": {},
   "outputs": [
    {
     "name": "stdout",
     "output_type": "stream",
     "text": [
      " a= 76\n",
      " b= 31\n",
      "Floor Div= 2\n"
     ]
    }
   ],
   "source": [
    "a=int(input(\" a= \"))\n",
    "b=int(input(\" b= \"))\n",
    "div=a//b\n",
    "print(\"Floor Div=\",div)"
   ]
  },
  {
   "cell_type": "code",
   "execution_count": 16,
   "id": "78c7ae22",
   "metadata": {},
   "outputs": [
    {
     "name": "stdout",
     "output_type": "stream",
     "text": [
      " a= 76\n",
      " b= 31\n",
      "Modulo= 14\n"
     ]
    }
   ],
   "source": [
    "a=int(input(\" a= \"))\n",
    "b=int(input(\" b= \"))\n",
    "mod=a%b\n",
    "print(\"Modulo=\",mod)"
   ]
  },
  {
   "cell_type": "code",
   "execution_count": 17,
   "id": "121b5e9c",
   "metadata": {},
   "outputs": [
    {
     "name": "stdout",
     "output_type": "stream",
     "text": [
      " a= 4\n",
      " b= 4\n",
      "power =  256\n"
     ]
    }
   ],
   "source": [
    "a=int(input(\" a= \"))\n",
    "b=int(input(\" b= \"))\n",
    "power=a**b\n",
    "print(\"power = \",power)"
   ]
  },
  {
   "cell_type": "code",
   "execution_count": null,
   "id": "6d5a9b3a",
   "metadata": {},
   "outputs": [],
   "source": []
  }
 ],
 "metadata": {
  "kernelspec": {
   "display_name": "Python 3 (ipykernel)",
   "language": "python",
   "name": "python3"
  },
  "language_info": {
   "codemirror_mode": {
    "name": "ipython",
    "version": 3
   },
   "file_extension": ".py",
   "mimetype": "text/x-python",
   "name": "python",
   "nbconvert_exporter": "python",
   "pygments_lexer": "ipython3",
   "version": "3.9.13"
  }
 },
 "nbformat": 4,
 "nbformat_minor": 5
}
