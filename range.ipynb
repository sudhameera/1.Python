{
 "cells": [
  {
   "cell_type": "code",
   "execution_count": 1,
   "id": "a6cedfbc",
   "metadata": {},
   "outputs": [
    {
     "name": "stdout",
     "output_type": "stream",
     "text": [
      "7\n"
     ]
    }
   ],
   "source": [
    "print(2+5)"
   ]
  },
  {
   "cell_type": "code",
   "execution_count": 2,
   "id": "2cf279aa",
   "metadata": {},
   "outputs": [
    {
     "name": "stdout",
     "output_type": "stream",
     "text": [
      "9.4\n"
     ]
    }
   ],
   "source": [
    "print(2.5+6.9)"
   ]
  },
  {
   "cell_type": "code",
   "execution_count": 3,
   "id": "e3d2ec2d",
   "metadata": {},
   "outputs": [
    {
     "name": "stdout",
     "output_type": "stream",
     "text": [
      "30\n"
     ]
    }
   ],
   "source": [
    "print(5*6)"
   ]
  },
  {
   "cell_type": "code",
   "execution_count": 4,
   "id": "4b81cfd3",
   "metadata": {},
   "outputs": [
    {
     "name": "stdout",
     "output_type": "stream",
     "text": [
      "6.222222222222222\n"
     ]
    }
   ],
   "source": [
    "print(56/9)"
   ]
  },
  {
   "cell_type": "code",
   "execution_count": 5,
   "id": "6aa3df50",
   "metadata": {},
   "outputs": [
    {
     "name": "stdout",
     "output_type": "stream",
     "text": [
      "-1\n"
     ]
    }
   ],
   "source": [
    "print(9-10)"
   ]
  },
  {
   "cell_type": "code",
   "execution_count": 8,
   "id": "0dc613ee",
   "metadata": {},
   "outputs": [
    {
     "name": "stdout",
     "output_type": "stream",
     "text": [
      "[0, 1, 2, 3, 4, 5]\n"
     ]
    }
   ],
   "source": [
    "source=[4,5,3,2,1,0]\n",
    "source.sort()\n",
    "print(source)"
   ]
  },
  {
   "cell_type": "code",
   "execution_count": 16,
   "id": "8943281e",
   "metadata": {},
   "outputs": [
    {
     "name": "stdout",
     "output_type": "stream",
     "text": [
      "value,\n",
      "     source,\n",
      "        mix,\n",
      "            dix,\n",
      "                wax\n"
     ]
    }
   ],
   "source": [
    "print('''value,\n",
    "     source,\n",
    "        mix,\n",
    "            dix,\n",
    "                wax''')"
   ]
  },
  {
   "cell_type": "code",
   "execution_count": 31,
   "id": "830a1bc8",
   "metadata": {
    "scrolled": true
   },
   "outputs": [
    {
     "ename": "NameError",
     "evalue": "name 'sudha' is not defined",
     "output_type": "error",
     "traceback": [
      "\u001b[1;31m---------------------------------------------------------------------------\u001b[0m",
      "\u001b[1;31mNameError\u001b[0m                                 Traceback (most recent call last)",
      "\u001b[1;32m~\\AppData\\Local\\Temp\\ipykernel_7560\\716121786.py\u001b[0m in \u001b[0;36m<module>\u001b[1;34m\u001b[0m\n\u001b[1;32m----> 1\u001b[1;33m \u001b[0mmy_name\u001b[0m\u001b[1;33m=\u001b[0m\u001b[0mint\u001b[0m\u001b[1;33m(\u001b[0m\u001b[0msudha\u001b[0m\u001b[1;33m)\u001b[0m\u001b[1;33m\u001b[0m\u001b[1;33m\u001b[0m\u001b[0m\n\u001b[0m\u001b[0;32m      2\u001b[0m \u001b[0mHus_name\u001b[0m\u001b[1;33m=\u001b[0m\u001b[1;36m50.62\u001b[0m\u001b[1;33m\u001b[0m\u001b[1;33m\u001b[0m\u001b[0m\n\u001b[0;32m      3\u001b[0m \u001b[0mprint\u001b[0m\u001b[1;33m(\u001b[0m\u001b[0mmy_name\u001b[0m\u001b[1;33m+\u001b[0m\u001b[1;34m\" \"\u001b[0m\u001b[1;33m+\u001b[0m \u001b[0mHus_name\u001b[0m\u001b[1;33m)\u001b[0m\u001b[1;33m\u001b[0m\u001b[1;33m\u001b[0m\u001b[0m\n",
      "\u001b[1;31mNameError\u001b[0m: name 'sudha' is not defined"
     ]
    }
   ],
   "source": [
    "my_name=int(sudha)\n",
    "Hus_name=50.62\n",
    "print(my_name+\" \"+ Hus_name)"
   ]
  },
  {
   "cell_type": "code",
   "execution_count": 29,
   "id": "a95827d3",
   "metadata": {},
   "outputs": [],
   "source": [
    "my_name=\"sudha\""
   ]
  },
  {
   "cell_type": "code",
   "execution_count": 38,
   "id": "f1e6dd4f",
   "metadata": {},
   "outputs": [
    {
     "name": "stdout",
     "output_type": "stream",
     "text": [
      "sudha polachi friday\n"
     ]
    }
   ],
   "source": [
    "my_name=\"sudha polachi\"\n",
    "print(my_name +\" \"+ \"friday\")"
   ]
  },
  {
   "cell_type": "code",
   "execution_count": 39,
   "id": "b19dcf13",
   "metadata": {},
   "outputs": [
    {
     "ename": "AttributeError",
     "evalue": "'str' object has no attribute 'append'",
     "output_type": "error",
     "traceback": [
      "\u001b[1;31m---------------------------------------------------------------------------\u001b[0m",
      "\u001b[1;31mAttributeError\u001b[0m                            Traceback (most recent call last)",
      "\u001b[1;32m~\\AppData\\Local\\Temp\\ipykernel_7560\\797834762.py\u001b[0m in \u001b[0;36m<module>\u001b[1;34m\u001b[0m\n\u001b[0;32m      1\u001b[0m \u001b[0mmy_name\u001b[0m\u001b[1;33m=\u001b[0m\u001b[1;34m\"sudha polachi\"\u001b[0m\u001b[1;33m\u001b[0m\u001b[1;33m\u001b[0m\u001b[0m\n\u001b[1;32m----> 2\u001b[1;33m \u001b[0mprint\u001b[0m\u001b[1;33m(\u001b[0m\u001b[0mmy_name\u001b[0m\u001b[1;33m.\u001b[0m\u001b[0mappend\u001b[0m\u001b[1;33m(\u001b[0m\u001b[0mfriday\u001b[0m\u001b[1;33m)\u001b[0m\u001b[1;33m)\u001b[0m\u001b[1;33m\u001b[0m\u001b[1;33m\u001b[0m\u001b[0m\n\u001b[0m",
      "\u001b[1;31mAttributeError\u001b[0m: 'str' object has no attribute 'append'"
     ]
    }
   ],
   "source": [
    "my_name=\"sudha polachi\"\n",
    "print(my_name.append(friday))"
   ]
  },
  {
   "cell_type": "code",
   "execution_count": 42,
   "id": "78998c31",
   "metadata": {},
   "outputs": [
    {
     "name": "stdout",
     "output_type": "stream",
     "text": [
      "venkatesh polachi\n"
     ]
    }
   ],
   "source": [
    "my_name=\"sudha polachi\"\n",
    "print(my_name.replace(\"sudha\",\"venkatesh\"))"
   ]
  },
  {
   "cell_type": "code",
   "execution_count": 49,
   "id": "558a7145",
   "metadata": {},
   "outputs": [
    {
     "name": "stdout",
     "output_type": "stream",
     "text": [
      "Enter first number: 265\n",
      "Enter second number: 76\n",
      "341 is the sum of 2 numbers\n"
     ]
    }
   ],
   "source": [
    "num1=int(input(\"Enter first number: \"))\n",
    "num2=int(input(\"Enter second number: \"))\n",
    "Total=num1+num2\n",
    "print(str(Total),\"is the sum of 2 numbers\")"
   ]
  },
  {
   "cell_type": "code",
   "execution_count": 57,
   "id": "1f94292d",
   "metadata": {},
   "outputs": [
    {
     "name": "stdout",
     "output_type": "stream",
     "text": [
      "['sathya,saranya,vani,hema,mona,sudha', 'priya']\n",
      "['brinda', 'priya']\n"
     ]
    }
   ],
   "source": [
    "group=[\"sathya,saranya,vani,hema,mona,sudha\"]\n",
    "group.append(\"priya\")\n",
    "print(group)\n",
    "group[0]=\"brinda\"\n",
    "print(group)"
   ]
  },
  {
   "cell_type": "code",
   "execution_count": 59,
   "id": "149eddb9",
   "metadata": {},
   "outputs": [
    {
     "name": "stdout",
     "output_type": "stream",
     "text": [
      "['brinda', 'saranya', 'vani', 'hema', 'mona', 'sudha']\n"
     ]
    }
   ],
   "source": [
    "group=[\"sathya\",\"saranya\",\"vani\",\"hema\",\"mona\",\"sudha\"]\n",
    "group[0]=\"brinda\"\n",
    "print(group)"
   ]
  },
  {
   "cell_type": "code",
   "execution_count": 64,
   "id": "9cd1b863",
   "metadata": {},
   "outputs": [
    {
     "name": "stdout",
     "output_type": "stream",
     "text": [
      "['brinda', 'saranya', 'vani', 'hema', 'mona', 'sudha', 'priya,sathya']\n"
     ]
    }
   ],
   "source": [
    "group=[\"sathya\",\"saranya\",\"vani\",\"hema\",\"mona\",\"sudha\"]\n",
    "group[0]=\"brinda\"\n",
    "group.append(\"priya,sathya\")\n",
    "print(group)"
   ]
  },
  {
   "cell_type": "code",
   "execution_count": 65,
   "id": "7e324c1b",
   "metadata": {},
   "outputs": [
    {
     "name": "stdout",
     "output_type": "stream",
     "text": [
      "[1, 3, 4, 5, 7, 8, 42]\n"
     ]
    }
   ],
   "source": [
    "list=[4,7,8,3,42,1,5]\n",
    "list.sort()\n",
    "print(list)"
   ]
  },
  {
   "cell_type": "code",
   "execution_count": 67,
   "id": "44da4a6f",
   "metadata": {},
   "outputs": [
    {
     "name": "stdout",
     "output_type": "stream",
     "text": [
      "['varu', 'buvi', 'charu', 'venki', 35, 99, 56, 12, 56]\n"
     ]
    }
   ],
   "source": [
    "group=['varu','buvi',\"charu\",\"venki\"]\n",
    "gen=[35,99,56,12,56]\n",
    "group.extend(gen)\n",
    "print(group)"
   ]
  },
  {
   "cell_type": "code",
   "execution_count": 68,
   "id": "00b7af7c",
   "metadata": {},
   "outputs": [
    {
     "name": "stdout",
     "output_type": "stream",
     "text": [
      "['varu', 652, 'buvi', 'charu', 'venki']\n"
     ]
    }
   ],
   "source": [
    "group=['varu','buvi',\"charu\",\"venki\"]\n",
    "group.insert(1,652)\n",
    "print(group)"
   ]
  },
  {
   "cell_type": "code",
   "execution_count": 73,
   "id": "86af6c37",
   "metadata": {},
   "outputs": [
    {
     "name": "stdout",
     "output_type": "stream",
     "text": [
      "2\n",
      "['varu', 'buvi', 'venki']\n"
     ]
    }
   ],
   "source": [
    "group=['varu','buvi',\"charu\",\"venki\"]\n",
    "print(group.index(\"charu\"))\n",
    "group.remove(\"charu\")\n",
    "print(group)\n",
    "group.clear()"
   ]
  },
  {
   "cell_type": "code",
   "execution_count": 74,
   "id": "d05ac5dc",
   "metadata": {},
   "outputs": [],
   "source": [
    "group=['varu','buvi',\"charu\",\"venki\"]\n",
    "group.clear()\n"
   ]
  },
  {
   "cell_type": "code",
   "execution_count": 75,
   "id": "bdd72b8c",
   "metadata": {},
   "outputs": [
    {
     "data": {
      "text/plain": [
       "3"
      ]
     },
     "execution_count": 75,
     "metadata": {},
     "output_type": "execute_result"
    }
   ],
   "source": [
    "group=['varu','buvi',\"charu\",\"venki\"]\n",
    "group.index(\"venki\")"
   ]
  },
  {
   "cell_type": "code",
   "execution_count": 79,
   "id": "0d109be4",
   "metadata": {},
   "outputs": [
    {
     "name": "stdout",
     "output_type": "stream",
     "text": [
      "[35, 99, 56, 12, 56]\n"
     ]
    }
   ],
   "source": [
    "gen=[35,99,56,12,56]\n",
    "verse=gen.copy()\n",
    "print(verse)"
   ]
  },
  {
   "cell_type": "code",
   "execution_count": 82,
   "id": "b2779a8d",
   "metadata": {},
   "outputs": [
    {
     "name": "stdout",
     "output_type": "stream",
     "text": [
      "4\n"
     ]
    }
   ],
   "source": [
    "value=(5,4,9,23.12,2,4)\n",
    "print(value.index(2))\n"
   ]
  },
  {
   "cell_type": "code",
   "execution_count": 89,
   "id": "eda50304",
   "metadata": {},
   "outputs": [
    {
     "name": "stdout",
     "output_type": "stream",
     "text": [
      "enter the number: 5599\n",
      "It is an odd number\n"
     ]
    }
   ],
   "source": [
    "number=int(input(\"enter the number: \"))\n",
    "if(number%2==0):\n",
    "    print(\"It is an even number\")\n",
    "else:\n",
    "    print(\"It is an odd number\")\n"
   ]
  },
  {
   "cell_type": "code",
   "execution_count": 92,
   "id": "9043dda1",
   "metadata": {},
   "outputs": [
    {
     "name": "stdout",
     "output_type": "stream",
     "text": [
      "0\n",
      "5\n",
      "10\n",
      "15\n",
      "20\n",
      "25\n",
      "30\n",
      "35\n",
      "40\n",
      "45\n",
      "50\n",
      "55\n",
      "60\n",
      "65\n",
      "70\n",
      "75\n",
      "80\n",
      "85\n",
      "90\n",
      "95\n",
      "100\n"
     ]
    }
   ],
   "source": [
    "for temp in range(0,101,5):\n",
    "    print(temp)"
   ]
  },
  {
   "cell_type": "code",
   "execution_count": null,
   "id": "50e50336",
   "metadata": {},
   "outputs": [],
   "source": []
  }
 ],
 "metadata": {
  "kernelspec": {
   "display_name": "Python 3 (ipykernel)",
   "language": "python",
   "name": "python3"
  },
  "language_info": {
   "codemirror_mode": {
    "name": "ipython",
    "version": 3
   },
   "file_extension": ".py",
   "mimetype": "text/x-python",
   "name": "python",
   "nbconvert_exporter": "python",
   "pygments_lexer": "ipython3",
   "version": "3.9.13"
  }
 },
 "nbformat": 4,
 "nbformat_minor": 5
}
