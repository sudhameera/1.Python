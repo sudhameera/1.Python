{
 "cells": [
  {
   "cell_type": "code",
   "execution_count": 2,
   "id": "dacb8187",
   "metadata": {},
   "outputs": [],
   "source": [
    "#for temp in mainvariable:\n",
    "    #print()\n",
    "    "
   ]
  },
  {
   "cell_type": "code",
   "execution_count": 2,
   "id": "19d33577",
   "metadata": {},
   "outputs": [
    {
     "name": "stdout",
     "output_type": "stream",
     "text": [
      "23\n",
      "56\n",
      "78\n",
      "61\n",
      "68\n"
     ]
    }
   ],
   "source": [
    "lists=[23,56,78,61,68]\n",
    "for temp in lists:\n",
    "    print(temp)"
   ]
  },
  {
   "cell_type": "code",
   "execution_count": 1,
   "id": "9021aff7",
   "metadata": {},
   "outputs": [
    {
     "name": "stdout",
     "output_type": "stream",
     "text": [
      "1\n",
      "2\n",
      "3\n",
      "4\n",
      "5\n",
      "6\n",
      "7\n",
      "8\n",
      "9\n",
      "10\n"
     ]
    }
   ],
   "source": [
    "for temp in range(1,11):\n",
    "    print(temp)"
   ]
  },
  {
   "cell_type": "code",
   "execution_count": 7,
   "id": "98ddaa30",
   "metadata": {},
   "outputs": [],
   "source": [
    "def printrange():\n",
    "    for num in range(0,101,5):\n",
    "        print(num)"
   ]
  },
  {
   "cell_type": "code",
   "execution_count": 8,
   "id": "9b67bdfc",
   "metadata": {},
   "outputs": [
    {
     "name": "stdout",
     "output_type": "stream",
     "text": [
      "0\n",
      "5\n",
      "10\n",
      "15\n",
      "20\n",
      "25\n",
      "30\n",
      "35\n",
      "40\n",
      "45\n",
      "50\n",
      "55\n",
      "60\n",
      "65\n",
      "70\n",
      "75\n",
      "80\n",
      "85\n",
      "90\n",
      "95\n",
      "100\n"
     ]
    }
   ],
   "source": [
    "printrange()"
   ]
  },
  {
   "cell_type": "code",
   "execution_count": 13,
   "id": "47436257",
   "metadata": {},
   "outputs": [],
   "source": [
    "def printrange1():\n",
    "    num1=int(input(\"enter the start value of a: \"))\n",
    "    num2=int(input(\"Enter th ending value: \"))\n",
    "    for i in range(num1,num2):\n",
    "        print(i)\n",
    "   "
   ]
  },
  {
   "cell_type": "code",
   "execution_count": 14,
   "id": "93a964b5",
   "metadata": {},
   "outputs": [
    {
     "name": "stdout",
     "output_type": "stream",
     "text": [
      "enter the start value of a: 10\n",
      "Enter th ending value: 21\n",
      "10\n",
      "11\n",
      "12\n",
      "13\n",
      "14\n",
      "15\n",
      "16\n",
      "17\n",
      "18\n",
      "19\n",
      "20\n"
     ]
    }
   ],
   "source": [
    "printrange1()"
   ]
  },
  {
   "cell_type": "code",
   "execution_count": 19,
   "id": "b16b92d0",
   "metadata": {},
   "outputs": [
    {
     "name": "stdout",
     "output_type": "stream",
     "text": [
      "23\n",
      "56\n",
      "45\n",
      "89\n",
      "23\n",
      "12\n"
     ]
    }
   ],
   "source": [
    "lists=[23,56,45,89,23,12]\n",
    "for age in lists:\n",
    "    print(age)"
   ]
  },
  {
   "cell_type": "code",
   "execution_count": 10,
   "id": "cc926845",
   "metadata": {},
   "outputs": [],
   "source": [
    "def add(a,b):\n",
    "    num1=int(input(\"enter the value of a: \"))\n",
    "    num2=int(input(\"enter the value of b: \"))\n",
    "    add=(num1+num2)\n",
    "    return(add)"
   ]
  },
  {
   "cell_type": "code",
   "execution_count": 11,
   "id": "fa673bba",
   "metadata": {},
   "outputs": [
    {
     "name": "stdout",
     "output_type": "stream",
     "text": [
      "enter the value of a: 65\n",
      "enter the value of b: 89\n"
     ]
    },
    {
     "data": {
      "text/plain": [
       "154"
      ]
     },
     "execution_count": 11,
     "metadata": {},
     "output_type": "execute_result"
    }
   ],
   "source": [
    "add(5,7)"
   ]
  },
  {
   "cell_type": "code",
   "execution_count": 25,
   "id": "2bc1e1fd",
   "metadata": {},
   "outputs": [],
   "source": [
    "def addition(a,b):\n",
    "    add=a+b\n",
    "    return(add)"
   ]
  },
  {
   "cell_type": "code",
   "execution_count": 5,
   "id": "a98cb7b8",
   "metadata": {},
   "outputs": [
    {
     "data": {
      "text/plain": [
       "9"
      ]
     },
     "execution_count": 5,
     "metadata": {},
     "output_type": "execute_result"
    }
   ],
   "source": [
    "addition(4,5)"
   ]
  },
  {
   "cell_type": "code",
   "execution_count": 38,
   "id": "4024b533",
   "metadata": {},
   "outputs": [],
   "source": [
    "def BMI():\n",
    "    BMI=int(input(\"enter your BMI: \"))\n",
    "    if(BMI<18.5):\n",
    "        print(\"under weight\")\n",
    "        message=\"under weight\"\n",
    "    elif(BMI<24.9):\n",
    "        print(\"normal\")\n",
    "        message=\"normal\"\n",
    "    elif(BMI<29.9):\n",
    "        print(\"over weight\")\n",
    "        message=\"over weight\"\n",
    "    else:\n",
    "        print(\"very over weight\")\n",
    "        message=\"very over weight\"\n",
    "    return(message)"
   ]
  },
  {
   "cell_type": "code",
   "execution_count": 43,
   "id": "4e42956f",
   "metadata": {},
   "outputs": [
    {
     "name": "stdout",
     "output_type": "stream",
     "text": [
      "enter your BMI: 18\n",
      "under weight\n",
      "quick,check with doctor\n"
     ]
    }
   ],
   "source": [
    "message=BMI()\n",
    "if(message==\"over weight\"):\n",
    "    print(\"caution,check with doctor\")\n",
    "elif(message==\"very over weight\"):\n",
    "    print(\"check with doctor immediately\")\n",
    "elif(message==\"normal\"):\n",
    "    print(\"you're good\")\n",
    "else:\n",
    "    print(\"quick,check with doctor\")"
   ]
  },
  {
   "cell_type": "code",
   "execution_count": null,
   "id": "8ac7efda",
   "metadata": {},
   "outputs": [],
   "source": []
  },
  {
   "cell_type": "code",
   "execution_count": null,
   "id": "c4c8f862",
   "metadata": {},
   "outputs": [],
   "source": []
  }
 ],
 "metadata": {
  "kernelspec": {
   "display_name": "Python 3 (ipykernel)",
   "language": "python",
   "name": "python3"
  },
  "language_info": {
   "codemirror_mode": {
    "name": "ipython",
    "version": 3
   },
   "file_extension": ".py",
   "mimetype": "text/x-python",
   "name": "python",
   "nbconvert_exporter": "python",
   "pygments_lexer": "ipython3",
   "version": "3.9.13"
  }
 },
 "nbformat": 4,
 "nbformat_minor": 5
}
