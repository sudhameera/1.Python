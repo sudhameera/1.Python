{
 "cells": [
  {
   "cell_type": "code",
   "execution_count": 1,
   "id": "bc294fee",
   "metadata": {},
   "outputs": [
    {
     "name": "stdout",
     "output_type": "stream",
     "text": [
      "Welcome to Assignment-1 \n"
     ]
    }
   ],
   "source": [
    "print(\"Welcome to Assignment-1 \")"
   ]
  },
  {
   "cell_type": "code",
   "execution_count": 5,
   "id": "4afe7d21",
   "metadata": {},
   "outputs": [
    {
     "name": "stdout",
     "output_type": "stream",
     "text": [
      "Num1= 10\n",
      "Num2= 30\n",
      "Add= 40\n"
     ]
    }
   ],
   "source": [
    "Num1=int(input(\"Num1= \"))\n",
    "Num2=int(input(\"Num2= \"))\n",
    "Add=Num1+Num2\n",
    "print(\"Add=\",   Add)"
   ]
  },
  {
   "cell_type": "code",
   "execution_count": null,
   "id": "182e7a39",
   "metadata": {},
   "outputs": [],
   "source": [
    "#Body Mass Index"
   ]
  },
  {
   "cell_type": "code",
   "execution_count": 9,
   "id": "11bdbcfb",
   "metadata": {},
   "outputs": [
    {
     "name": "stdout",
     "output_type": "stream",
     "text": [
      "Enter the BMI Index: 34\n",
      "Very OverWeight\n"
     ]
    }
   ],
   "source": [
    "bmi=int(input(\"Enter the BMI Index: \"))\n",
    "if(bmi<18.5):\n",
    "    print(\"Under weight\")\n",
    "elif(bmi<24.9):\n",
    "    print(\"Normal Range\")\n",
    "elif(bmi<29.9):\n",
    "    print(\"Over Weight\")\n",
    "elif(bmi<40):\n",
    "    print(\"Very OverWeight\")\n",
    "else:\n",
    "    print(\"Obese\")"
   ]
  },
  {
   "cell_type": "code",
   "execution_count": null,
   "id": "233f5066",
   "metadata": {},
   "outputs": [],
   "source": []
  }
 ],
 "metadata": {
  "kernelspec": {
   "display_name": "Python 3 (ipykernel)",
   "language": "python",
   "name": "python3"
  },
  "language_info": {
   "codemirror_mode": {
    "name": "ipython",
    "version": 3
   },
   "file_extension": ".py",
   "mimetype": "text/x-python",
   "name": "python",
   "nbconvert_exporter": "python",
   "pygments_lexer": "ipython3",
   "version": "3.9.13"
  }
 },
 "nbformat": 4,
 "nbformat_minor": 5
}
