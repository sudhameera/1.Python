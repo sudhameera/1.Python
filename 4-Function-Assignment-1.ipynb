{
 "cells": [
  {
   "cell_type": "code",
   "execution_count": 1,
   "id": "20b0d218",
   "metadata": {},
   "outputs": [
    {
     "name": "stdout",
     "output_type": "stream",
     "text": [
      "Sub-fields in AI are:\n",
      "Machine Learning\n",
      "Neural Networks\n",
      "Vision\n",
      "Robotics\n",
      "Speech Processing\n",
      "Natural Language Processing\n"
     ]
    }
   ],
   "source": [
    "print('''Sub-fields in AI are:\n",
    "Machine Learning\n",
    "Neural Networks\n",
    "Vision\n",
    "Robotics\n",
    "Speech Processing\n",
    "Natural Language Processing''')"
   ]
  },
  {
   "cell_type": "code",
   "execution_count": 2,
   "id": "80721547",
   "metadata": {},
   "outputs": [],
   "source": [
    "def Subfields():\n",
    "    print('''Sub-fields in AI are:\n",
    "Machine Learning\n",
    "Neural Networks\n",
    "Vision\n",
    "Robotics\n",
    "Speech Processing\n",
    "Natural Language Processing''')"
   ]
  },
  {
   "cell_type": "code",
   "execution_count": 3,
   "id": "a95278ec",
   "metadata": {},
   "outputs": [
    {
     "name": "stdout",
     "output_type": "stream",
     "text": [
      "Sub-fields in AI are:\n",
      "Machine Learning\n",
      "Neural Networks\n",
      "Vision\n",
      "Robotics\n",
      "Speech Processing\n",
      "Natural Language Processing\n"
     ]
    }
   ],
   "source": [
    "Subfields()"
   ]
  },
  {
   "cell_type": "code",
   "execution_count": 14,
   "id": "31c53452",
   "metadata": {},
   "outputs": [
    {
     "name": "stdout",
     "output_type": "stream",
     "text": [
      "Enter a number541\n",
      "541  is Odd number\n"
     ]
    }
   ],
   "source": [
    "num=int(input(\"Enter a number\"))\n",
    "if(num%2==0):\n",
    "    print(num,\"is Even number\")\n",
    "else:\n",
    "    print(num,\" is Odd number\")"
   ]
  },
  {
   "cell_type": "code",
   "execution_count": 16,
   "id": "7a85c2bb",
   "metadata": {},
   "outputs": [],
   "source": [
    "def OddEven():\n",
    "    num=int(input(\"Enter a number\"))\n",
    "    if(num%2==0):\n",
    "        print(num,\"is Even number\")\n",
    "    else:\n",
    "        print(num,\" is Odd number\")"
   ]
  },
  {
   "cell_type": "code",
   "execution_count": 17,
   "id": "e7cadc26",
   "metadata": {},
   "outputs": [
    {
     "name": "stdout",
     "output_type": "stream",
     "text": [
      "Enter a number52452\n",
      "52452 is Even number\n"
     ]
    }
   ],
   "source": [
    "OddEven()"
   ]
  },
  {
   "cell_type": "code",
   "execution_count": 19,
   "id": "3d70df2f",
   "metadata": {},
   "outputs": [
    {
     "name": "stdout",
     "output_type": "stream",
     "text": [
      "Your gender= male\n",
      "Your age= 20\n",
      "NOT ELIGIBLE\n"
     ]
    }
   ],
   "source": [
    "gender=input(\"Your gender= \")\n",
    "age=int(input(\"Your age= \"))\n",
    "if(gender=='male'):\n",
    "    if(age>=21):\n",
    "        print(\"ELIGIBLE\")\n",
    "    else:\n",
    "        print(\"NOT ELIGIBLE\")\n",
    "elif(gender==\"female\"):\n",
    "    if(age>=18):\n",
    "         print(\"ELIGIBLE\")\n",
    "    else:\n",
    "        print(\"NOT ELIGIBLE\")"
   ]
  },
  {
   "cell_type": "code",
   "execution_count": 33,
   "id": "473c5904",
   "metadata": {},
   "outputs": [],
   "source": [
    "def Eligible():\n",
    "    gender=input(\"Your gender= \")\n",
    "    age=int(input(\"Your age= \"))\n",
    "    if(gender=='male'):\n",
    "        if(age>=21):\n",
    "            print(\"ELIGIBLE\")\n",
    "            message=\"ELIGIBLE\"\n",
    "        else:\n",
    "            print(\"NOT ELIGIBLE\")\n",
    "            message=\"NOT ELIGIBLE\"\n",
    "    elif(gender==\"female\"):\n",
    "        if(age>=18):\n",
    "            print(\"ELIGIBLE\")\n",
    "            message=\"ELIGIBLE\"\n",
    "        else:\n",
    "            print(\"NOT ELIGIBLE\")   \n",
    "            message=\"NOT ELIGIBLE\"\n",
    "    return message"
   ]
  },
  {
   "cell_type": "code",
   "execution_count": 34,
   "id": "a1a48bc9",
   "metadata": {},
   "outputs": [
    {
     "name": "stdout",
     "output_type": "stream",
     "text": [
      "Your gender= male\n",
      "Your age= 20\n",
      "NOT ELIGIBLE\n"
     ]
    },
    {
     "data": {
      "text/plain": [
       "'NOT ELIGIBLE'"
      ]
     },
     "execution_count": 34,
     "metadata": {},
     "output_type": "execute_result"
    }
   ],
   "source": [
    "Eligible()"
   ]
  },
  {
   "cell_type": "code",
   "execution_count": 35,
   "id": "1d404c95",
   "metadata": {},
   "outputs": [],
   "source": [
    "def percentage():\n",
    "    sub1=int(input(\"sunject 1= \"))\n",
    "    sub2=int(input(\"sunject 2= \"))\n",
    "    sub3=int(input(\"sunject 3= \"))\n",
    "    sub4=int(input(\"sunject 4= \"))\n",
    "    sub5=int(input(\"sunject 5= \"))\n",
    "    Total=sub1+sub2+sub3+sub4+sub5\n",
    "    print(\"Total =\" ,Total )\n",
    "    percentage=float(Total/5)\n",
    "    print(\"Percentage= \",percentage )\n"
   ]
  },
  {
   "cell_type": "code",
   "execution_count": 36,
   "id": "ad5d8acc",
   "metadata": {},
   "outputs": [
    {
     "name": "stdout",
     "output_type": "stream",
     "text": [
      "sunject 1= 98\n",
      "sunject 2= 87\n",
      "sunject 3= 95\n",
      "sunject 4= 95\n",
      "sunject 5= 93\n",
      "Total = 468\n",
      "Percentage=  93.6\n"
     ]
    }
   ],
   "source": [
    "percentage()"
   ]
  },
  {
   "cell_type": "code",
   "execution_count": 38,
   "id": "90737bb6",
   "metadata": {},
   "outputs": [],
   "source": [
    "def percenatage():\n",
    "    \n",
    "    from decimal import getcontext\n",
    "    sub1=int(input(\"sunject 1= \"))\n",
    "    sub2=int(input(\"sunject 2= \"))\n",
    "    sub3=int(input(\"sunject 3= \"))\n",
    "    sub4=int(input(\"sunject 4= \"))\n",
    "    sub5=int(input(\"sunject 5= \"))\n",
    "    Total=sub1+sub2+sub3+sub4+sub5\n",
    "    getcontext().prec=15\n",
    "    print(\"Total =\" ,Total )\n",
    "    Percentage=(Total/5)\n",
    "    print(\"Percentage= \",Percentage )"
   ]
  },
  {
   "cell_type": "code",
   "execution_count": 39,
   "id": "5a37ea77",
   "metadata": {},
   "outputs": [
    {
     "name": "stdout",
     "output_type": "stream",
     "text": [
      "sunject 1= 98\n",
      "sunject 2= 87\n",
      "sunject 3= 95\n",
      "sunject 4= 95\n",
      "sunject 5= 93\n",
      "Total = 468\n",
      "Percentage=  93.6\n"
     ]
    }
   ],
   "source": [
    "percenatage()"
   ]
  },
  {
   "cell_type": "code",
   "execution_count": 42,
   "id": "b10dad32",
   "metadata": {},
   "outputs": [
    {
     "name": "stdout",
     "output_type": "stream",
     "text": [
      "Height= 32\n",
      "Breath= 34\n",
      "Area formula: (Height*Breadth)/2\n",
      "Area of Triangle =  544.0\n",
      "Height1= 2\n",
      "Height2= 4\n",
      "Breath= 4\n",
      "Perimeter formula: height1+height2+breath\n",
      "Perimeter of Triangle:  10\n"
     ]
    }
   ],
   "source": [
    "height=int(input(\"Height= \"))\n",
    "breath=int(input(\"Breath= \"))\n",
    "print(\"Area formula: (Height*Breadth)/2\")\n",
    "triangleArea=(height*breath)/2\n",
    "print(\"Area of Triangle = \",triangleArea)\n",
    "height1=int(input(\"Height1= \"))\n",
    "height2=int(input(\"Height2= \"))\n",
    "breath=int(input(\"Breath= \"))\n",
    "print(\"Perimeter formula: height1+height2+breath\")\n",
    "triangleperimeter=height1+height2+breath\n",
    "print(\"Perimeter of Triangle: \",triangleperimeter)"
   ]
  },
  {
   "cell_type": "code",
   "execution_count": 43,
   "id": "2d3df088",
   "metadata": {},
   "outputs": [],
   "source": [
    "def triangle():\n",
    "    height=int(input(\"Height= \"))\n",
    "    breath=int(input(\"Breath= \"))\n",
    "    print(\"Area formula: (Height*Breadth)/2\")\n",
    "    triangleArea=(height*breath)/2\n",
    "    print(\"Area of Triangle = \",triangleArea)\n",
    "    height1=int(input(\"Height1= \"))\n",
    "    height2=int(input(\"Height2= \"))\n",
    "    breath=int(input(\"Breath= \"))\n",
    "    print(\"Perimeter formula: height1+height2+breath\")\n",
    "    triangleperimeter=height1+height2+breath\n",
    "    print(\"Perimeter of Triangle: \",triangleperimeter)"
   ]
  },
  {
   "cell_type": "code",
   "execution_count": 45,
   "id": "576636ce",
   "metadata": {},
   "outputs": [
    {
     "name": "stdout",
     "output_type": "stream",
     "text": [
      "Height= 32\n",
      "Breath= 34\n",
      "Area formula: (Height*Breadth)/2\n",
      "Area of Triangle =  544.0\n",
      "Height1= 2\n",
      "Height2= 4\n",
      "Breath= 4\n",
      "Perimeter formula: height1+height2+breath\n",
      "Perimeter of Triangle:  10\n"
     ]
    }
   ],
   "source": [
    "triangle()"
   ]
  },
  {
   "cell_type": "code",
   "execution_count": null,
   "id": "f9e68f7a",
   "metadata": {},
   "outputs": [],
   "source": []
  }
 ],
 "metadata": {
  "kernelspec": {
   "display_name": "Python 3 (ipykernel)",
   "language": "python",
   "name": "python3"
  },
  "language_info": {
   "codemirror_mode": {
    "name": "ipython",
    "version": 3
   },
   "file_extension": ".py",
   "mimetype": "text/x-python",
   "name": "python",
   "nbconvert_exporter": "python",
   "pygments_lexer": "ipython3",
   "version": "3.9.13"
  }
 },
 "nbformat": 4,
 "nbformat_minor": 5
}
