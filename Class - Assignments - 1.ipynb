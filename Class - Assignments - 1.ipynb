{
 "cells": [
  {
   "cell_type": "code",
   "execution_count": 1,
   "id": "ba3153fd",
   "metadata": {},
   "outputs": [],
   "source": [
    "class SubfieldsInAI():\n",
    "    def Subfields():\n",
    "        print('''Sub-fields in AI are:\n",
    "    Machine Learning\n",
    "    Neural Networks\n",
    "    Vision\n",
    "    Robotics\n",
    "    Speech Processing\n",
    "    Natural Language Processing''')"
   ]
  },
  {
   "cell_type": "code",
   "execution_count": 2,
   "id": "20645da6",
   "metadata": {},
   "outputs": [
    {
     "name": "stdout",
     "output_type": "stream",
     "text": [
      "Sub-fields in AI are:\n",
      "    Machine Learning\n",
      "    Neural Networks\n",
      "    Vision\n",
      "    Robotics\n",
      "    Speech Processing\n",
      "    Natural Language Processing\n"
     ]
    }
   ],
   "source": [
    "SubfieldsInAI.Subfields()"
   ]
  },
  {
   "cell_type": "code",
   "execution_count": 3,
   "id": "e12c083e",
   "metadata": {},
   "outputs": [],
   "source": [
    "class OddEven():\n",
    "    def OddEven():\n",
    "        num=int(input(\"Enter a number\"))\n",
    "        if(num%2==0):\n",
    "            print(num,\"is Even number\")\n",
    "        else:\n",
    "            print(num,\" is Odd number\")"
   ]
  },
  {
   "cell_type": "code",
   "execution_count": 4,
   "id": "093e894e",
   "metadata": {},
   "outputs": [
    {
     "name": "stdout",
     "output_type": "stream",
     "text": [
      "Enter a number52452\n",
      "52452 is Even number\n"
     ]
    }
   ],
   "source": [
    "OddEven.OddEven()"
   ]
  },
  {
   "cell_type": "code",
   "execution_count": 7,
   "id": "7d448b05",
   "metadata": {},
   "outputs": [],
   "source": [
    "class Eligibilityformarriage():\n",
    "    def Eligible():\n",
    "        gender=input(\"Your gender= \")\n",
    "        age=int(input(\"Your age= \"))\n",
    "        if(gender=='male'):\n",
    "            if(age>=21):\n",
    "                print(\"ELIGIBLE\")\n",
    "                message=\"ELIGIBLE\"\n",
    "            else:\n",
    "                print(\"NOT ELIGIBLE\")\n",
    "                message=\"NOT ELIGIBLE\"\n",
    "        elif(gender==\"female\"):\n",
    "            if(age>=18):\n",
    "                print(\"ELIGIBLE\")\n",
    "                message=\"ELIGIBLE\"\n",
    "            else:\n",
    "                print(\"NOT ELIGIBLE\")   \n",
    "                message=\"NOT ELIGIBLE\"\n",
    "        return message"
   ]
  },
  {
   "cell_type": "code",
   "execution_count": 8,
   "id": "43131642",
   "metadata": {},
   "outputs": [
    {
     "name": "stdout",
     "output_type": "stream",
     "text": [
      "Your gender= male\n",
      "Your age= 20\n",
      "NOT ELIGIBLE\n"
     ]
    },
    {
     "data": {
      "text/plain": [
       "'NOT ELIGIBLE'"
      ]
     },
     "execution_count": 8,
     "metadata": {},
     "output_type": "execute_result"
    }
   ],
   "source": [
    "Eligibilityformarriage.Eligible()"
   ]
  },
  {
   "cell_type": "code",
   "execution_count": 9,
   "id": "2c451c2c",
   "metadata": {},
   "outputs": [],
   "source": [
    "class FindPercent():\n",
    "    def percentage():\n",
    "        sub1=int(input(\"sunject 1= \"))\n",
    "        sub2=int(input(\"sunject 2= \"))\n",
    "        sub3=int(input(\"sunject 3= \"))\n",
    "        sub4=int(input(\"sunject 4= \"))\n",
    "        sub5=int(input(\"sunject 5= \"))\n",
    "        Total=sub1+sub2+sub3+sub4+sub5\n",
    "        print(\"Total =\" ,Total )\n",
    "        percentage=float(Total/5)\n",
    "        print(\"Percentage= \",percentage )\n",
    "\n",
    "    "
   ]
  },
  {
   "cell_type": "code",
   "execution_count": 10,
   "id": "36772866",
   "metadata": {},
   "outputs": [
    {
     "name": "stdout",
     "output_type": "stream",
     "text": [
      "sunject 1= 98\n",
      "sunject 2= 87\n",
      "sunject 3= 95\n",
      "sunject 4= 95\n",
      "sunject 5= 93\n",
      "Total = 468\n",
      "Percentage=  93.6\n"
     ]
    }
   ],
   "source": [
    "FindPercent.percentage()"
   ]
  },
  {
   "cell_type": "code",
   "execution_count": 11,
   "id": "2c80a291",
   "metadata": {},
   "outputs": [],
   "source": [
    "class triangle():\n",
    "    def triangle():\n",
    "        height=int(input(\"Height= \"))\n",
    "        breath=int(input(\"Breath= \"))\n",
    "        print(\"Area formula: (Height*Breadth)/2\")\n",
    "        triangleArea=(height*breath)/2\n",
    "        print(\"Area of Triangle = \",triangleArea)\n",
    "        height1=int(input(\"Height1= \"))\n",
    "        height2=int(input(\"Height2= \"))\n",
    "        breath=int(input(\"Breath= \"))\n",
    "        print(\"Perimeter formula: height1+height2+breath\")\n",
    "        triangleperimeter=height1+height2+breath\n",
    "        print(\"Perimeter of Triangle: \",triangleperimeter)"
   ]
  },
  {
   "cell_type": "code",
   "execution_count": 12,
   "id": "42eb1cb7",
   "metadata": {},
   "outputs": [
    {
     "name": "stdout",
     "output_type": "stream",
     "text": [
      "Height= 32\n",
      "Breath= 34\n",
      "Area formula: (Height*Breadth)/2\n",
      "Area of Triangle =  544.0\n",
      "Height1= 2\n",
      "Height2= 4\n",
      "Breath= 4\n",
      "Perimeter formula: height1+height2+breath\n",
      "Perimeter of Triangle:  10\n"
     ]
    }
   ],
   "source": [
    "triangle.triangle()"
   ]
  },
  {
   "cell_type": "code",
   "execution_count": null,
   "id": "45586a8f",
   "metadata": {},
   "outputs": [],
   "source": []
  }
 ],
 "metadata": {
  "kernelspec": {
   "display_name": "Python 3 (ipykernel)",
   "language": "python",
   "name": "python3"
  },
  "language_info": {
   "codemirror_mode": {
    "name": "ipython",
    "version": 3
   },
   "file_extension": ".py",
   "mimetype": "text/x-python",
   "name": "python",
   "nbconvert_exporter": "python",
   "pygments_lexer": "ipython3",
   "version": "3.9.13"
  }
 },
 "nbformat": 4,
 "nbformat_minor": 5
}
