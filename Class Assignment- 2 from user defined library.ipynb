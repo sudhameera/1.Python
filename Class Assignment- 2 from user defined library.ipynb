{
 "cells": [
  {
   "cell_type": "code",
   "execution_count": 7,
   "id": "5fa2b490",
   "metadata": {},
   "outputs": [],
   "source": [
    "from classAssignment2 import functionandClass"
   ]
  },
  {
   "cell_type": "code",
   "execution_count": 8,
   "id": "67e8b0d4",
   "metadata": {},
   "outputs": [
    {
     "name": "stdout",
     "output_type": "stream",
     "text": [
      "Sub-fields in AI are:\n",
      "    Machine Learning\n",
      "    Neural Networks\n",
      "    Vision\n",
      "    Robotics\n",
      "    Speech Processing\n",
      "    Natural Language Processing\n"
     ]
    }
   ],
   "source": [
    "functionandClass.Subfields()"
   ]
  },
  {
   "cell_type": "code",
   "execution_count": 9,
   "id": "879809e1",
   "metadata": {},
   "outputs": [
    {
     "name": "stdout",
     "output_type": "stream",
     "text": [
      "Enter a number15981\n",
      "15981  is Odd number\n"
     ]
    }
   ],
   "source": [
    "functionandClass.OddEven()"
   ]
  },
  {
   "cell_type": "code",
   "execution_count": 10,
   "id": "dde7c1f8",
   "metadata": {},
   "outputs": [
    {
     "name": "stdout",
     "output_type": "stream",
     "text": [
      "Your gender= female\n",
      "Your age= 16\n",
      "NOT ELIGIBLE\n"
     ]
    },
    {
     "data": {
      "text/plain": [
       "'NOT ELIGIBLE'"
      ]
     },
     "execution_count": 10,
     "metadata": {},
     "output_type": "execute_result"
    }
   ],
   "source": [
    "functionandClass.Eligible()"
   ]
  },
  {
   "cell_type": "code",
   "execution_count": 11,
   "id": "92cd7623",
   "metadata": {},
   "outputs": [
    {
     "name": "stdout",
     "output_type": "stream",
     "text": [
      "sunject 1= 99\n",
      "sunject 2= 98\n",
      "sunject 3= 97\n",
      "sunject 4= 96\n",
      "sunject 5= 99\n",
      "Total = 489\n",
      "Percentage=  97.8\n"
     ]
    }
   ],
   "source": [
    "functionandClass.percentage()"
   ]
  },
  {
   "cell_type": "code",
   "execution_count": 12,
   "id": "0d44b72a",
   "metadata": {},
   "outputs": [
    {
     "name": "stdout",
     "output_type": "stream",
     "text": [
      "Height= 32\n",
      "Breath= 34\n",
      "Area formula: (Height*Breadth)/2\n",
      "Area of Triangle =  544.0\n",
      "Height1= 4\n",
      "Height2= 3\n",
      "Breath= 4\n",
      "Perimeter formula: height1+height2+breath\n",
      "Perimeter of Triangle:  11\n"
     ]
    }
   ],
   "source": [
    "functionandClass.triangle()"
   ]
  },
  {
   "cell_type": "code",
   "execution_count": null,
   "id": "85781551",
   "metadata": {},
   "outputs": [],
   "source": []
  }
 ],
 "metadata": {
  "kernelspec": {
   "display_name": "Python 3 (ipykernel)",
   "language": "python",
   "name": "python3"
  },
  "language_info": {
   "codemirror_mode": {
    "name": "ipython",
    "version": 3
   },
   "file_extension": ".py",
   "mimetype": "text/x-python",
   "name": "python",
   "nbconvert_exporter": "python",
   "pygments_lexer": "ipython3",
   "version": "3.9.13"
  }
 },
 "nbformat": 4,
 "nbformat_minor": 5
}
